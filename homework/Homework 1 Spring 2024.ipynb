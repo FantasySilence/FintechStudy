{
 "cells": [
  {
   "cell_type": "markdown",
   "metadata": {},
   "source": [
    "# Homework 1 Spring 2024"
   ]
  },
  {
   "cell_type": "markdown",
   "metadata": {},
   "source": [
    "### Deadline: Mar 31 2024"
   ]
  },
  {
   "cell_type": "markdown",
   "metadata": {},
   "source": [
    "# Basics"
   ]
  },
  {
   "cell_type": "markdown",
   "metadata": {},
   "source": [
    "Problem: Write a function to find the maximum of three numbers.\n",
    "\n",
    "Input Example: max_of_three(4, 7, 2)\n",
    "\n",
    "Output: 7"
   ]
  },
  {
   "cell_type": "code",
   "execution_count": 1,
   "metadata": {},
   "outputs": [
    {
     "name": "stdout",
     "output_type": "stream",
     "text": [
      "7\n"
     ]
    }
   ],
   "source": [
    "def max_of_three(a,b,c) -> any:\n",
    "    if a>b and a>c:\n",
    "        return a\n",
    "    elif b>a and b>c:\n",
    "        return b\n",
    "    else:\n",
    "        return c\n",
    "print(max_of_three(4,7,2))"
   ]
  },
  {
   "cell_type": "markdown",
   "metadata": {},
   "source": [
    "Problem: Create a function that checks whether a given number is prime or not.\n",
    "\n",
    "Input Example: is_prime(11)\n",
    "\n",
    "Output: True"
   ]
  },
  {
   "cell_type": "code",
   "execution_count": 2,
   "metadata": {},
   "outputs": [
    {
     "name": "stdout",
     "output_type": "stream",
     "text": [
      "True\n"
     ]
    }
   ],
   "source": [
    "def is_prime(n: int) -> bool:\n",
    "    if n == 1:\n",
    "        return False\n",
    "    for i in range(2, n):\n",
    "        if n % i == 0:\n",
    "            return False\n",
    "    return True\n",
    "\n",
    "print(is_prime(11))"
   ]
  },
  {
   "cell_type": "markdown",
   "metadata": {},
   "source": [
    "Problem: Write a function that reverses a string.\n",
    "\n",
    "Input Example: reverse_string(\"hello\")\n",
    "\n",
    "Output: \"olleh\""
   ]
  },
  {
   "cell_type": "code",
   "execution_count": 3,
   "metadata": {},
   "outputs": [
    {
     "name": "stdout",
     "output_type": "stream",
     "text": [
      "olleh\n"
     ]
    }
   ],
   "source": [
    "def reverse_string(strings: str) -> str:\n",
    "    return strings[::-1]\n",
    "\n",
    "print(reverse_string(\"hello\"))"
   ]
  },
  {
   "cell_type": "markdown",
   "metadata": {},
   "source": [
    "Problem: Write a recursive function to calculate the sum of natural numbers up to n.\n",
    "\n",
    "Input Example: sum_of_natural_numbers(4)\n",
    "    \n",
    "Output: 10 (1 + 2 + 3 + 4 = 10)"
   ]
  },
  {
   "cell_type": "code",
   "execution_count": 1,
   "metadata": {},
   "outputs": [
    {
     "name": "stdout",
     "output_type": "stream",
     "text": [
      "10\n"
     ]
    }
   ],
   "source": [
    "def sum_of_natural_numbers(n: int) -> int:\n",
    "    \n",
    "    if n == 1:\n",
    "        return 1\n",
    "    else:\n",
    "        return n + sum_of_natural_numbers(n - 1)\n",
    "\n",
    "print(sum_of_natural_numbers(4))"
   ]
  },
  {
   "cell_type": "markdown",
   "metadata": {},
   "source": [
    "Problem: Implement a class representing a student with attributes like name, age, and a method to check if the student is a teenager (age between 13 and 19).\n",
    "\n",
    "Input Example: student = Student(\"Alice\", 15)\n",
    "\n",
    "Output: True"
   ]
  },
  {
   "cell_type": "code",
   "execution_count": 5,
   "metadata": {},
   "outputs": [
    {
     "name": "stdout",
     "output_type": "stream",
     "text": [
      "True\n"
     ]
    }
   ],
   "source": [
    "class Student:\n",
    "    def __init__(self, name, age):\n",
    "        self.name = name\n",
    "        self.age = age\n",
    "        self.is_teenager()\n",
    "\n",
    "    def is_teenager(self):\n",
    "        print(13 <= self.age <= 19)\n",
    "\n",
    "student = Student('Alice', 15)"
   ]
  },
  {
   "cell_type": "markdown",
   "metadata": {},
   "source": [
    "Problem: Implement a class representing a shopping cart. It should have methods to add items, remove items, and calculate the total price of all items in the cart.\n",
    "\n",
    "Input Example: cart = ShoppingCart()\n",
    "    \n",
    "Output: Total Price: $50.75"
   ]
  },
  {
   "cell_type": "code",
   "execution_count": 6,
   "metadata": {},
   "outputs": [
    {
     "name": "stdout",
     "output_type": "stream",
     "text": [
      "$6.50\n",
      "$3.50\n"
     ]
    }
   ],
   "source": [
    "class ShoppingCart:\n",
    "\n",
    "    def __init__(self):\n",
    "        self.cart = {}  # 初始化一个空购物车存结果\n",
    "        self.price = {} # 初始化一个价格表存放每个物品的价格\n",
    "    \n",
    "    def add_item(self, item, quantity, price):\n",
    "\n",
    "        \"\"\"\n",
    "        添加物品\n",
    "        item:物品名称\n",
    "        quantity:物品数量\n",
    "        price:物品价格\n",
    "        \"\"\"\n",
    "\n",
    "        if item in self.cart.keys():\n",
    "            self.cart[item] += quantity\n",
    "        else:\n",
    "            self.cart[item] = quantity\n",
    "        self.price[item] = price\n",
    "    \n",
    "    def remove_item(self, item):\n",
    "\n",
    "        \"\"\"\n",
    "        删除物品\n",
    "        item:物品名称\n",
    "        \"\"\"\n",
    "\n",
    "        if item in self.cart:\n",
    "            del self.cart[item]\n",
    "        else:\n",
    "            print(\"Item not in cart...\")\n",
    "    \n",
    "    def get_total(self):\n",
    "\n",
    "        \"\"\"\n",
    "        计算总价\n",
    "        \"\"\"\n",
    "\n",
    "        total = 0\n",
    "        for item, quantity in self.cart.items():\n",
    "            total += self.price[item] * quantity\n",
    "        return \"$%.2f\"%total\n",
    "\n",
    "cart = ShoppingCart()\n",
    "# 添加一些物品\n",
    "cart.add_item(\"apple\", 2, 1.5)\n",
    "cart.add_item(\"banana\", 3, 0.5)\n",
    "cart.add_item(\"orange\", 1, 2.0)\n",
    "print(cart.get_total())\n",
    "# 删除一个物品apple\n",
    "cart.remove_item(\"apple\")\n",
    "print(cart.get_total())"
   ]
  },
  {
   "cell_type": "markdown",
   "metadata": {},
   "source": [
    "# Naive Root finding (Regula Falsi)"
   ]
  },
  {
   "cell_type": "markdown",
   "metadata": {},
   "source": [
    "Similar to the Bisection algorithm, the False Position Algorithm, also known as Regula Falsi, utilizes a bracketing approach. But unlike the Bisection Algorithm, it does not utilize a brute-force approach of dividing the problem space into half for every iteration. Instead, this algorithm iteratively draws a straight line from f(start) to f(end) and compares the intercept with the target value."
   ]
  },
  {
   "cell_type": "markdown",
   "metadata": {},
   "source": [
    "Write a function for Regula Falsi algorithm to find a rood for a given function $f$."
   ]
  },
  {
   "cell_type": "code",
   "execution_count": 7,
   "metadata": {},
   "outputs": [],
   "source": [
    "f = lambda x:  x**3 + x**2 + 1\n",
    "start = -2\n",
    "end = 2"
   ]
  },
  {
   "cell_type": "code",
   "execution_count": 8,
   "metadata": {},
   "outputs": [
    {
     "name": "stdout",
     "output_type": "stream",
     "text": [
      "-1.465570963592252\n"
     ]
    }
   ],
   "source": [
    "def RegulaFalsi( start, end, f, error = 1e-6 ) -> float:\n",
    "\n",
    "    \"\"\"\n",
    "    start, end: 初始值\n",
    "    f: 待求根的函数\n",
    "    error: 误差\n",
    "    \"\"\"\n",
    "\n",
    "    # 判断是否异号\n",
    "    if f(start)*f(end) > 0:\n",
    "        raise ValueError(\"初始值选择未使函数值异号\")\n",
    "    x1, x2 = start, end\n",
    "    while True:\n",
    "        x_new = x2 - f(x2)*(x2-x1)/(f(x2)-f(x1))\n",
    "        # 小于误差时返回结果，否则继续搜索\n",
    "        if abs(f(x_new)) < error:\n",
    "            return x_new\n",
    "        # 更新x1和x2\n",
    "        elif f(x_new)*f(x1) > 0:\n",
    "            x1 = x_new\n",
    "        elif f(x_new)*f(x2) > 0:\n",
    "            x2 = x_new\n",
    "print(RegulaFalsi(-2, 2, f))"
   ]
  },
  {
   "cell_type": "markdown",
   "metadata": {},
   "source": [
    "## Compound Interest Calculation\n",
    "\n",
    "Write a function to calculate compound Interest, compounded monthly. And test your function.\n",
    "\n",
    "Input:\n",
    "\n",
    "Initial investment in dollar $P$\n",
    "\n",
    "Yearly interest rate $r$\n",
    "\n",
    "Time length in year $t$\n",
    "\n",
    "Formular:\n",
    "return $P(1 + \\frac{r}{12} )^{(12 \\times t)}$"
   ]
  },
  {
   "cell_type": "code",
   "execution_count": 9,
   "metadata": {},
   "outputs": [
    {
     "name": "stdout",
     "output_type": "stream",
     "text": [
      "1051.161897881733\n"
     ]
    }
   ],
   "source": [
    "def calculateInterest( P, r, t ) -> float:\n",
    "    \n",
    "    \"\"\"\n",
    "    P: 初始投资\n",
    "    r: 年利率\n",
    "    t: 时间\n",
    "    \"\"\"\n",
    "\n",
    "    return P * (1 + r / 12) ** (12 * t)\n",
    "\n",
    "print(calculateInterest(1000, 0.05, 1))"
   ]
  },
  {
   "cell_type": "markdown",
   "metadata": {},
   "source": [
    "## Mortgage Calculator"
   ]
  },
  {
   "cell_type": "markdown",
   "metadata": {},
   "source": [
    "Write a function to calculate monthly Mortgage and outstanding Loan Balance with inputs:\n",
    "\n",
    "Principle $P$\n",
    "\n",
    "Yearly interest rate $r$\n",
    "\n",
    "Number of years $t$\n",
    "\n",
    "Number of month passed $m$\n",
    "\n",
    "Number of periods in one year $n=12$\n",
    "\n",
    "Fixed Periodic Payment Calculation:\n",
    "$ [ \\frac{ P\\times(\\frac{r}{n})\\times ( 1+\\frac{r}{n} )^{n\\times t} }{( 1 + \\frac{r}{n} )^{n\\times t}-1} ] $\n",
    "\n",
    "Outstanding Loan Balance Calculation:\n",
    "$ [ \\frac{ P\\times [( 1+\\frac{r}{n} )^{n\\times t} - ( 1+\\frac{r}{n} )^{ m}] }{( 1 + \\frac{r}{n} )^{n\\times t}-1} ] $\n",
    "\n",
    "\n",
    "Write a program to list out all the monthly payment and remaining balance for a 20 year, 5% yearly interest rate, 1000000 principle mortgage."
   ]
  },
  {
   "cell_type": "code",
   "execution_count": 10,
   "metadata": {},
   "outputs": [
    {
     "name": "stdout",
     "output_type": "stream",
     "text": [
      "4374.758218866293\n",
      "4374.622744259677\n"
     ]
    }
   ],
   "source": [
    "def fixedPayment(P, r, t) -> float:\n",
    "\n",
    "    \"\"\"\n",
    "    P: 初始投资\n",
    "    r: 年利率\n",
    "    t: 时间\n",
    "    \"\"\"\n",
    "\n",
    "    return (P * (r / 12) * (1 + r / 12) ** 12 * t) / ((1 + r / 12) ** 12 * t - 1)\n",
    "\n",
    "\n",
    "def remainBalance(P, r, t, m) -> float:\n",
    "\n",
    "    \"\"\"\n",
    "    P: 初始投资\n",
    "    r: 年利率\n",
    "    t: 时间\n",
    "    m: 过去的月份数\n",
    "    \"\"\"\n",
    "\n",
    "    return (P * (r / 12) * (1 + r / 12) ** 12 * t - (1 + r / 12) ** m) / (\n",
    "        (1 + r / 12) ** 12 * t - 1\n",
    "    )\n",
    "\n",
    "\n",
    "print(fixedPayment(1000000, 0.05, 20))\n",
    "print(remainBalance(1000000, 0.05, 20, 240))"
   ]
  },
  {
   "cell_type": "markdown",
   "metadata": {},
   "source": [
    "# Recursive Functions"
   ]
  },
  {
   "cell_type": "markdown",
   "metadata": {},
   "source": [
    "Write a recursive function to calculate sum of first n natural numbers."
   ]
  },
  {
   "cell_type": "code",
   "execution_count": 11,
   "metadata": {},
   "outputs": [
    {
     "name": "stdout",
     "output_type": "stream",
     "text": [
      "55\n"
     ]
    }
   ],
   "source": [
    "def sum_of_n(n: int) -> int:\n",
    "    if n == 1:\n",
    "        return 1\n",
    "    res = n + sum_of_n(n-1)\n",
    "    return res\n",
    "\n",
    "print(sum_of_n(10))"
   ]
  },
  {
   "cell_type": "markdown",
   "metadata": {},
   "source": [
    "# Recursive Bubble Sort"
   ]
  },
  {
   "cell_type": "markdown",
   "metadata": {},
   "source": [
    "Bubble Sort is the simplest sorting algorithm that works by repeatedly swapping the adjacent elements if they are in wrong order.\n",
    "\n",
    "Example: \n",
    "\n",
    "First Pass: \n",
    "\n",
    "( 5 1 4 2 8 ) –> ( 1 5 4 2 8 ), Here, algorithm compares the first two elements, and swaps since 5 > 1. \n",
    "\n",
    "( 1 5 4 2 8 ) –> ( 1 4 5 2 8 ), Swap since 5 > 4 \n",
    "\n",
    "( 1 4 5 2 8 ) –> ( 1 4 2 5 8 ), Swap since 5 > 2 \n",
    "\n",
    "( 1 4 2 5 8 ) –> ( 1 4 2 5 8 ), Now, since these elements are already in order (8 > 5), algorithm does not swap them.\n",
    "\n",
    "Second Pass: \n",
    "\n",
    "( 1 4 2 5 8 ) –> ( 1 4 2 5 8 ) \n",
    "\n",
    "( 1 4 2 5 8 ) –> ( 1 2 4 5 8 ), Swap since 4 > 2 \n",
    "\n",
    "( 1 2 4 5 8 ) –> ( 1 2 4 5 8 ) \n",
    "\n",
    "( 1 2 4 5 8 ) –> ( 1 2 4 5 8 ) \n",
    "\n",
    "Now, the array is already sorted, but our algorithm does not know if it is completed. The algorithm needs one whole pass without any swap to know it is sorted.\n",
    "\n",
    "Third Pass: \n",
    "\n",
    "( 1 2 4 5 8 ) –> ( 1 2 4 5 8 ) \n",
    "\n",
    "( 1 2 4 5 8 ) –> ( 1 2 4 5 8 ) \n",
    "\n",
    "( 1 2 4 5 8 ) –> ( 1 2 4 5 8 ) \n",
    "\n",
    "( 1 2 4 5 8 ) –> ( 1 2 4 5 8 )\n",
    "\n",
    "If we take a closer look at Bubble Sort algorithm, we can notice that in first pass, we move largest element to end (Assuming sorting in increasing order). In second pass, we move second largest element to second last position and so on. \n",
    "\n",
    "##### Recursion Idea.  \n",
    "\n",
    "Base Case: If array size is 1, return.\n",
    "\n",
    "Do One Pass of normal Bubble Sort. This pass fixes last element of current subarray.\n",
    "\n",
    "Recur for all elements except last of current subarray."
   ]
  },
  {
   "cell_type": "markdown",
   "metadata": {},
   "source": [
    "sample input: [ 5,1,4,2,8 ]\n",
    "\n",
    "sample output: [ 1,2,4,5,8 ]\n"
   ]
  },
  {
   "cell_type": "code",
   "execution_count": 12,
   "metadata": {},
   "outputs": [
    {
     "name": "stdout",
     "output_type": "stream",
     "text": [
      "[1, 2, 4, 5, 8]\n"
     ]
    }
   ],
   "source": [
    "def bubble_sort(arr: list) -> list:\n",
    "\n",
    "    \"\"\"\n",
    "    递归实现冒泡排序\n",
    "    arr:待排序的数组\n",
    "    \"\"\"\n",
    "\n",
    "    if len(arr) == 1:\n",
    "        return arr\n",
    "    for i in range(len(arr) - 1):\n",
    "        if arr[i] > arr[i + 1]:\n",
    "            arr[i], arr[i + 1] = arr[i + 1], arr[i]\n",
    "            bubble_sort(arr)\n",
    "    return arr\n",
    "\n",
    "arr = [5, 1, 4, 2, 8]\n",
    "print(bubble_sort(arr))\n"
   ]
  },
  {
   "cell_type": "markdown",
   "metadata": {},
   "source": [
    "# Check if a number is Palindrome"
   ]
  },
  {
   "cell_type": "markdown",
   "metadata": {},
   "source": [
    "Given an integer, write a function that returns true if the given number is palindrome, else false. For example, 12321 is palindrome, but 1451 is not palindrome.\n",
    "\n",
    "Let the given number be num. A simple method for this problem is to first reverse digits of num, then compare the reverse of num with num. If both are same, then return true, else false.\n",
    "\n",
    "sample input: 12321\n",
    "\n",
    "sample output: True\n",
    "\n",
    "sample input: 1451\n",
    "\n",
    "sample output: False"
   ]
  },
  {
   "cell_type": "code",
   "execution_count": 13,
   "metadata": {},
   "outputs": [
    {
     "name": "stdout",
     "output_type": "stream",
     "text": [
      "True\n",
      "False\n"
     ]
    }
   ],
   "source": [
    "def isPalindrome(n: int) -> bool:\n",
    "    \n",
    "    return str(n) == str(n)[::-1]\n",
    "\n",
    "print(isPalindrome(12321))\n",
    "print(isPalindrome(1451))"
   ]
  },
  {
   "cell_type": "markdown",
   "metadata": {},
   "source": [
    "# Loops"
   ]
  },
  {
   "cell_type": "markdown",
   "metadata": {},
   "source": [
    "Write a python program to convert an integer into binary string.\n",
    "\n",
    "Sample Input: 7,\n",
    "Sample Output: \"111\"\n",
    "\n",
    "Sample Input: 8,\n",
    "Sample Output: \"1000\""
   ]
  },
  {
   "cell_type": "code",
   "execution_count": 14,
   "metadata": {},
   "outputs": [
    {
     "name": "stdout",
     "output_type": "stream",
     "text": [
      "111\n",
      "1000\n"
     ]
    }
   ],
   "source": [
    "def convert_binary(n: int) -> str:\n",
    "    binary_expr = \"\"\n",
    "    while n > 0:\n",
    "        binary_expr += str(n % 2)\n",
    "        n //= 2\n",
    "    return binary_expr[::-1]\n",
    "print(convert_binary(7))\n",
    "print(convert_binary(8))\n"
   ]
  },
  {
   "cell_type": "markdown",
   "metadata": {},
   "source": [
    "# Area of a Triangle"
   ]
  },
  {
   "cell_type": "markdown",
   "metadata": {},
   "source": [
    "Given the coordinates of 3 vertices from 2 dimensional Euclidean Plane, write a python function to output the area of the triangle given by the 3 vertices. If 3 vertices are all on one straight line, return 0.\n",
    "\n",
    "Sample Input: [(0,4),(3,0),(0,0)],\n",
    "Sample Output: 6\n",
    "\n",
    "Sample Input: [(0,1),(0,2),(0,0)],\n",
    "Sample Output: 0"
   ]
  },
  {
   "cell_type": "code",
   "execution_count": 15,
   "metadata": {},
   "outputs": [
    {
     "name": "stdout",
     "output_type": "stream",
     "text": [
      "6.0\n",
      "0.0\n"
     ]
    }
   ],
   "source": [
    "def calArea(cordinate: list) -> float:\n",
    "\n",
    "    \"\"\"\n",
    "    利用已知三点坐标求三角形面积的公式\n",
    "    如果无法构成三角形，将返回0\n",
    "    \"\"\"\n",
    "\n",
    "    x1, y1, x2, y2, x3, y3 = *cordinate[0], *cordinate[1], *cordinate[2]\n",
    "    return abs((x1*(y2-y3) + x2*(y3-y1) + x3*(y1-y2)))/2\n",
    "\n",
    "print(calArea([(0,4),(3,0),(0,0)]))\n",
    "print(calArea([(0,1),(0,2),(0,0)]))"
   ]
  },
  {
   "cell_type": "markdown",
   "metadata": {},
   "source": [
    "# Pascal Triangle (杨辉三角) generator"
   ]
  },
  {
   "cell_type": "markdown",
   "metadata": {},
   "source": [
    "Write a python program to output a pascal trianlge with input row number N."
   ]
  },
  {
   "cell_type": "markdown",
   "metadata": {},
   "source": [
    "Input: N = 5\n",
    "\n",
    "Output:\n",
    "\n",
    "        1\n",
    "       1 1\n",
    "      1 2 1\n",
    "     1 3 3 1\n",
    "    1 4 6 4 1"
   ]
  },
  {
   "cell_type": "code",
   "execution_count": 16,
   "metadata": {},
   "outputs": [
    {
     "name": "stdout",
     "output_type": "stream",
     "text": [
      "      1 \n",
      "     1 1 \n",
      "    1 2 1 \n",
      "   1 3 3 1 \n",
      "  1 4 6 4 1 \n"
     ]
    }
   ],
   "source": [
    "def factorial(n) -> int:\n",
    "\n",
    "    \"\"\"\n",
    "    定义一个阶乘函数\n",
    "    \"\"\"\n",
    "\n",
    "    if n == 0:\n",
    "        return 1\n",
    "    else:\n",
    "        return n * factorial(n-1)\n",
    "\n",
    "def pascalTriangle(n):\n",
    "\n",
    "    \"\"\"\n",
    "    杨辉三角\n",
    "    \"\"\"\n",
    "\n",
    "    for i in range(n):\n",
    "        for j in range(n-i+1):\n",
    "            print(end=\" \")\n",
    "        for j in range(i+1):\n",
    "            print(factorial(i)//(factorial(j)*factorial(i-j)),end=\" \")\n",
    "        print()\n",
    "\n",
    "pascalTriangle(5)"
   ]
  },
  {
   "cell_type": "markdown",
   "metadata": {},
   "source": [
    "# Sudoku (数独) Solver"
   ]
  },
  {
   "cell_type": "markdown",
   "metadata": {},
   "source": [
    "Sudoku is a popular puzzle game that is based on the logical placement of numbers. It doesn’t require any special mathematics skills or calculations. Let’s look at an example below from Wikipedia."
   ]
  },
  {
   "cell_type": "code",
   "execution_count": null,
   "metadata": {},
   "outputs": [],
   "source": []
  },
  {
   "cell_type": "markdown",
   "metadata": {},
   "source": [
    "It is a 9x9 grid puzzle (81 squares). At the beginning of the game, some squares are filled with digits, while most of them are empty. The goal of Sudoku is to fill those empty squares with digits so that each row, column, and 3×3 section contains numbers between 1 to 9. The players need to use logic to fill in the missing digits and complete the grid so that all the constraints and rules are satisfied. A move is incorrect if:\n",
    "\n",
    "* Any row contains more than one of the same digit from 1 to 9.\n",
    "* Any column contains more than one of the same digit from 1 to 9.\n",
    "* Any 3×3 grid contains more than one of the same digit from 1 to 9."
   ]
  },
  {
   "cell_type": "markdown",
   "metadata": {},
   "source": [
    "Sample Input:"
   ]
  },
  {
   "cell_type": "code",
   "execution_count": 17,
   "metadata": {},
   "outputs": [],
   "source": [
    "puzzleToSolve =  [[5, 3, 0, 0, 7, 0, 0, 0, 0],\n",
    "                  [6, 0, 0, 1, 9, 5, 0, 0, 0],\n",
    "                  [0, 9, 8, 0, 0, 0, 0, 6, 0],\n",
    "                  [8, 0, 0, 0, 6, 0, 0, 0, 3],\n",
    "                  [4, 0, 0, 8, 0, 3, 0, 0, 1],\n",
    "                  [7, 0, 0, 0, 2, 0, 0, 0, 6],\n",
    "                  [0, 6, 0, 0, 0, 0, 2, 8, 0],\n",
    "                  [0, 0, 0, 4, 1, 9, 0, 0, 5],\n",
    "                  [0, 0, 0, 0, 8, 0, 0, 7, 9]]"
   ]
  },
  {
   "cell_type": "markdown",
   "metadata": {},
   "source": [
    "#### A function to draw the input"
   ]
  },
  {
   "cell_type": "code",
   "execution_count": 18,
   "metadata": {},
   "outputs": [
    {
     "name": "stdout",
     "output_type": "stream",
     "text": [
      "Sudoku Problem\n",
      "+-------+-------+-------+\n",
      "| 5 3   |   7   |       |\n",
      "| 6     | 1 9 5 |       |\n",
      "|   9 8 |       |   6   |\n",
      "+-------+-------+-------+\n",
      "| 8     |   6   |     3 |\n",
      "| 4     | 8   3 |     1 |\n",
      "| 7     |   2   |     6 |\n",
      "+-------+-------+-------+\n",
      "|   6   |       | 2 8   |\n",
      "|       | 4 1 9 |     5 |\n",
      "|       |   8   |   7 9 |\n",
      "+-------+-------+-------+\n",
      "530070000600195000098000060800060003400803001700020006060000280000419005000080079\n"
     ]
    }
   ],
   "source": [
    "def draw(puzzle):\n",
    "    for r in range(len(puzzle)):\n",
    "        if r == 0 or r == 3 or r == 6:\n",
    "            print(\"+-------+-------+-------+\")\n",
    "        for c in range(len(puzzle[r])):\n",
    "            if c == 0 or c == 3 or c ==6:\n",
    "                print(\"| \", end = \"\")\n",
    "            if puzzle[r][c] != 0:\n",
    "                print(puzzle[r][c], end = \" \")\n",
    "            else:\n",
    "                print(end = \"  \")\n",
    "            if c == 8:\n",
    "                print(\"|\")\n",
    "    print(\"+-------+-------+-------+\")\n",
    "    \n",
    "s = ''.join(map(str,[''.join(map(str, i)) for i in puzzleToSolve]))\n",
    "\n",
    "print(\"Sudoku Problem\")\n",
    "draw(puzzleToSolve)\n",
    "print(s)"
   ]
  },
  {
   "cell_type": "markdown",
   "metadata": {},
   "source": [
    "Afterward, we can create the Sudoku Solver by following this three-step recursive procedure:\n",
    "\n",
    "* Find the location of the first 0, denoted by i (i=0 means the first number, i=1 means the second, …, and i=80 means the last one .) If no 0 is found, a solution is found.\n",
    "* For location i, scan elements in the same row, same column, and same block. This step is to find all the digits for which location i cannot be filled.\n",
    "* Let location i try every possible value, one by one, and for each choice, repeat these three steps (until no 0 is found in step 1). Every possible value = digit from 1 to 9 excluding those digits for which location i cannot be filled."
   ]
  },
  {
   "cell_type": "code",
   "execution_count": 19,
   "metadata": {},
   "outputs": [
    {
     "name": "stdout",
     "output_type": "stream",
     "text": [
      "+-------+-------+-------+\n",
      "| 5 3 4 | 6 7 8 | 9 1 2 |\n",
      "| 6 7 2 | 1 9 5 | 3 4 8 |\n",
      "| 1 9 8 | 3 4 2 | 5 6 7 |\n",
      "+-------+-------+-------+\n",
      "| 8 5 9 | 7 6 1 | 4 2 3 |\n",
      "| 4 2 6 | 8 5 3 | 7 9 1 |\n",
      "| 7 1 3 | 9 2 4 | 8 5 6 |\n",
      "+-------+-------+-------+\n",
      "| 9 6 1 | 5 3 7 | 2 8 4 |\n",
      "| 2 8 7 | 4 1 9 | 6 3 5 |\n",
      "| 3 4 5 | 2 8 6 | 1 7 9 |\n",
      "+-------+-------+-------+\n"
     ]
    }
   ],
   "source": [
    "import copy \n",
    "\n",
    "class SudokuSolver:\n",
    "\n",
    "    def __init__(self, board):\n",
    "        self.board = copy.deepcopy(board)\n",
    "        self.solve()\n",
    "\n",
    "    def solve(self):\n",
    "\n",
    "        \"\"\"\n",
    "        求解, 保证某个数字只在对应行列以及宫中只出现一次\n",
    "        \"\"\"\n",
    "        \n",
    "        # 定义一些bool数组，存储某个位置是否已经填了某个数字(row[0][4]=True表示第一行已经有数字5了)\n",
    "        # 记录行\n",
    "        row = [[False] * 9 for _ in range(9)]\n",
    "        # 记录列\n",
    "        column = [[False] * 9 for _ in range(9)]\n",
    "        # 记录宫\n",
    "        block = [[[False] * 9 for _ in range(3)] for _ in range(3)]\n",
    "\n",
    "        # 初始化一个列表，记录0的位置\n",
    "        loc_zero = []\n",
    "\n",
    "        # 遍历数独表格，记录下所有0的位置(i,j)\n",
    "        for i in range(9):\n",
    "            for j in range(9):\n",
    "                if self.board[i][j] == 0:\n",
    "                    loc_zero.append((i, j))\n",
    "                \n",
    "                # 如果是已经填了数字，就记录在bool数组中(True),鉴于索引从零开始，所以减一\n",
    "                else:\n",
    "                    row[i][self.board[i][j] - 1] = True\n",
    "                    column[j][self.board[i][j] - 1] = True\n",
    "                    block[i // 3][j // 3][self.board[i][j] - 1] = True\n",
    "        \n",
    "        # 接下来遍历存储0位置的列表，填入数字\n",
    "        # 显然根据之前bool数组的信息，只有则三个数组在(i,j)都是False的情况下才能填入数字\n",
    "        # 递归+回溯填入\n",
    "        is_out = False\n",
    "        def numPlace(n):\n",
    "\n",
    "            # 这里是递归退出flag\n",
    "            nonlocal is_out \n",
    "\n",
    "            # n等于loc_zero的长度，说明已经填完了\n",
    "            if n == len(loc_zero):\n",
    "                is_out = True\n",
    "                return\n",
    "            \n",
    "            # 接下来遍历存储0位置的列表，填入数字\n",
    "            # 显然根据之前bool数组的信息，只有则三个数组在(i,j)都是False的情况下才能填入数字\n",
    "            i, j = loc_zero[n]\n",
    "            for num in range(9):\n",
    "                if row[i][num] == False and column[j][num] == False and block[i // 3][j // 3][num] == False:\n",
    "                    row[i][num] = True\n",
    "                    column[j][num] = True\n",
    "                    block[i // 3][j // 3][num] = True\n",
    "                    self.board[i][j] = num + 1\n",
    "                    numPlace(n + 1)\n",
    "                    # 回溯,撤销之前的操作\n",
    "                    row[i][num] = False\n",
    "                    column[j][num] = False\n",
    "                    block[i // 3][j // 3][num] = False\n",
    "                if is_out:\n",
    "                    return\n",
    "                    \n",
    "        numPlace(0)\n",
    "        draw(self.board)\n",
    "\n",
    "solution = SudokuSolver(puzzleToSolve)"
   ]
  },
  {
   "cell_type": "markdown",
   "metadata": {},
   "source": [
    "Sample solution drawn:\n",
    "\n",
    "\n",
    "            +-------+-------+-------+\n",
    "            | 5 3 4 | 6 7 8 | 9 1 2 |\n",
    "            | 6 7 2 | 1 9 5 | 3 4 8 |\n",
    "            | 1 9 8 | 3 4 2 | 5 6 7 |\n",
    "            +-------+-------+-------+\n",
    "            | 8 5 9 | 7 6 1 | 4 2 3 |\n",
    "            | 4 2 6 | 8 5 3 | 7 9 1 |\n",
    "            | 7 1 3 | 9 2 4 | 8 5 6 |\n",
    "            +-------+-------+-------+\n",
    "            | 9 6 1 | 5 3 7 | 2 8 4 |\n",
    "            | 2 8 7 | 4 1 9 | 6 3 5 |\n",
    "            | 3 4 5 | 2 8 6 | 1 7 9 |\n",
    "            +-------+-------+-------+"
   ]
  },
  {
   "cell_type": "markdown",
   "metadata": {},
   "source": [
    "# Recursive List"
   ]
  },
  {
   "cell_type": "markdown",
   "metadata": {},
   "source": [
    "A nested number list is a list whose elements are either:\n",
    "* a.numbers\n",
    "* nested number lists\n",
    "\n",
    "Our job is to write a function that will sum all of the values in a nested number list."
   ]
  },
  {
   "cell_type": "markdown",
   "metadata": {},
   "source": [
    "Sample Input: \n",
    "    \n",
    "[3, [[100, 7], 90], [1, 13], 8, 6]\n",
    "\n",
    "Sample Output:\n",
    "228"
   ]
  },
  {
   "cell_type": "code",
   "execution_count": 20,
   "metadata": {},
   "outputs": [
    {
     "name": "stdout",
     "output_type": "stream",
     "text": [
      "228\n"
     ]
    }
   ],
   "source": [
    "def nested_list(arr) -> int:\n",
    "    \n",
    "    total_sum = 0\n",
    "    for i in arr:\n",
    "        if isinstance(i, list):\n",
    "            total_sum += nested_list(i)\n",
    "        else:\n",
    "            total_sum += i \n",
    "    return total_sum\n",
    "\n",
    "arr = [3, [[100, 7], 90], [1, 13], 8, 6]\n",
    "print(nested_list(arr))\n"
   ]
  },
  {
   "cell_type": "markdown",
   "metadata": {},
   "source": [
    "# Combination Sum"
   ]
  },
  {
   "cell_type": "markdown",
   "metadata": {},
   "source": [
    "Find all valid combinations of k numbers that sum up to n such that the following conditions are true:\n",
    "\n",
    "* Only numbers 1 through 9 are used.\n",
    "* Each number is used at most once.\n",
    "* Return a list of all possible valid combinations. The list must not contain the same combination twice, and the combinations may be returned in any order."
   ]
  },
  {
   "cell_type": "markdown",
   "metadata": {},
   "source": [
    "#### Example 1\n",
    "Input: k = 3, n = 7\n",
    "\n",
    "Output: [[1,2,4]]\n",
    "\n",
    "Explanation:\n",
    "1 + 2 + 4 = 7\n",
    "\n",
    "\n",
    "There are no other valid combinations."
   ]
  },
  {
   "cell_type": "markdown",
   "metadata": {},
   "source": [
    "#### Example 2\n",
    "Input: k = 3, n = 9\n",
    "    \n",
    "Output: [[1,2,6],[1,3,5],[2,3,4]]\n",
    "    \n",
    "Explanation:\n",
    "* 1 + 2 + 6 = 9\n",
    "* 1 + 3 + 5 = 9\n",
    "* 2 + 3 + 4 = 9\n",
    "\n",
    "There are no other valid combinations."
   ]
  },
  {
   "cell_type": "markdown",
   "metadata": {},
   "source": [
    "#### Example 3\n",
    "\n",
    "Input: k = 4, n = 1\n",
    "\n",
    "Output: []\n",
    "\n",
    "Explanation: There are no valid combinations.\n",
    "\n",
    "Using 4 different numbers in the range [1,9], the smallest sum we can get is 1+2+3+4 = 10 and since 10 > 1, there are no valid combination."
   ]
  },
  {
   "cell_type": "code",
   "execution_count": 21,
   "metadata": {},
   "outputs": [
    {
     "name": "stdout",
     "output_type": "stream",
     "text": [
      "[[1, 2, 6], [1, 3, 5], [2, 3, 4]]\n",
      "[[1, 2, 4]]\n",
      "[]\n"
     ]
    }
   ],
   "source": [
    "def combinationSum(k:int, n:int) -> list:\n",
    "\n",
    "    res = []\n",
    "    \n",
    "    def traceBack(start:int, combo:list, remain:int):\n",
    "\n",
    "        \"\"\"\n",
    "        回溯算法\n",
    "        start: 回溯起始点，这里是1\n",
    "        combo: 发现的组合，是否有效需判定\n",
    "        remain: 目标值减去combo中数字的和，用于判定有效结果\n",
    "        \"\"\"\n",
    "\n",
    "        # 找到一个满足的组合，退出并添加到res\n",
    "        if remain == 0 and len(combo) == k:\n",
    "            res.append(list(combo))\n",
    "            return\n",
    "        \n",
    "        # 不符合条件的组合，直接退出\n",
    "        if remain < 0 or len(combo) > k:\n",
    "            return\n",
    "        \n",
    "        for i in range(start, 10):\n",
    "            # 选择一个数插入combo\n",
    "            combo.append(i)\n",
    "            # 递归调用\n",
    "            traceBack(i+1, combo, remain-i)\n",
    "            # 撤销选择\n",
    "            combo.pop()\n",
    "    \n",
    "    traceBack(1, [], n)\n",
    "    return res\n",
    "\n",
    "print(combinationSum(3, 9))\n",
    "print(combinationSum(3, 7))\n",
    "print(combinationSum(4, 1))\n"
   ]
  },
  {
   "cell_type": "markdown",
   "metadata": {},
   "source": [
    "# Duplicate letter checker"
   ]
  },
  {
   "cell_type": "markdown",
   "metadata": {},
   "source": [
    "\n",
    "\n",
    "Create a function in Python that accepts one parameter: a string that’s a sentence. This function should return True if any word in that sentence contains duplicate letters and False if not."
   ]
  },
  {
   "cell_type": "code",
   "execution_count": 22,
   "metadata": {},
   "outputs": [
    {
     "name": "stdout",
     "output_type": "stream",
     "text": [
      "True\n"
     ]
    }
   ],
   "source": [
    "def checker(strings: str) -> bool:\n",
    "\n",
    "    \"\"\"\n",
    "    查重器\n",
    "    \"\"\"\n",
    "\n",
    "    word_list = strings.split()\n",
    "    for word in word_list:\n",
    "        if len(list(word)) != len(set(word)):\n",
    "            return True\n",
    "        break\n",
    "    return False\n",
    "\n",
    "testStr = \"Create a function in Python that accepts one parameter: a string that’s a sentence. This function should return True if any word in that sentence contains duplicate letters and False if not.\"\n",
    "print(checker(testStr))"
   ]
  }
 ],
 "metadata": {
  "kernelspec": {
   "display_name": "Python 3",
   "language": "python",
   "name": "python3"
  },
  "language_info": {
   "codemirror_mode": {
    "name": "ipython",
    "version": 3
   },
   "file_extension": ".py",
   "mimetype": "text/x-python",
   "name": "python",
   "nbconvert_exporter": "python",
   "pygments_lexer": "ipython3",
   "version": "3.9.7"
  }
 },
 "nbformat": 4,
 "nbformat_minor": 4
}
