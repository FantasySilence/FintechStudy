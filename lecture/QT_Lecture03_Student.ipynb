{
 "cells": [
  {
   "cell_type": "markdown",
   "metadata": {},
   "source": [
    "# FINTECH Quant Trading Lecture03"
   ]
  },
  {
   "cell_type": "code",
   "execution_count": 1,
   "metadata": {},
   "outputs": [],
   "source": [
    "import os\n",
    "import sys\n",
    "import warnings\n",
    "import matplotlib\n",
    "import pandas as pd\n",
    "import matplotlib.pyplot as plt\n",
    "\n",
    "plt.style.use( \"seaborn\" )\n",
    "matplotlib.rcParams[ 'font.family' ] = 'serif'\n",
    "warnings.filterwarnings('ignore')\n",
    "path = os.path.dirname(os.getcwd())\n",
    "sys.path.append(path)\n",
    "fig_folder = \"QT_Lecture_03\"\n",
    "\n",
    "# ------ 存放数据的文件夹 ------ #\n",
    "lecturedata_path = os.path.join(path, 'resources', 'lecturedata')\n",
    "homeworkdata_path = os.path.join(path, 'resources', 'homeworkdata')\n",
    "if not os.path.exists(lecturedata_path):\n",
    "    os.mkdir(lecturedata_path)\n",
    "else:\n",
    "    pass\n",
    "if not os.path.exists(homeworkdata_path):\n",
    "    os.mkdir(homeworkdata_path)\n",
    "else:\n",
    "    pass\n",
    "\n",
    "from common.filesio import FilesIO\n",
    "from common.figsio import FiguresIO"
   ]
  },
  {
   "cell_type": "code",
   "execution_count": 2,
   "metadata": {},
   "outputs": [],
   "source": [
    "def parse_input(row_data: pd.DataFrame) -> pd.DataFrame:\n",
    "\n",
    "    \"\"\"\n",
    "    解析股票数据\n",
    "    \"\"\"\n",
    "    \n",
    "    data = row_data[[\n",
    "        'Stkcd', 'Trddt', 'Opnprc','Hiprc','Loprc', \n",
    "        'Clsprc', 'Dretwd', 'Dnshrtrd', 'Dnvaltrd'\n",
    "    ]]\n",
    "    data[\"Stkcd\"] = data[\"Stkcd\"].map(lambda x: '{:06d}'.format(x))\n",
    "    data.rename(\n",
    "        columns = {\n",
    "            'Stkcd':'Code', 'Trddt':'Date', 'Opnprc':'Open',\n",
    "            'Hiprc':'High', 'Loprc':'Low',\n",
    "            'Clsprc':'Close', 'Dretwd':'Ret', \n",
    "            'Dnshrtrd':'Vol', 'Dnvaltrd':'Amount'\n",
    "        }, inplace = True \n",
    "    )\n",
    "    data.set_index(['Code', 'Date'], inplace = True)\n",
    "    data = data.unstack(level = 0)\n",
    "    data = data.swaplevel(0 , 1, axis = 1)\n",
    "    data.sort_index( axis = 1, inplace = True )\n",
    "    return data"
   ]
  },
  {
   "cell_type": "code",
   "execution_count": 3,
   "metadata": {},
   "outputs": [
    {
     "name": "stdout",
     "output_type": "stream",
     "text": [
      "\"d:/GitsProject/FintechStudy/resources/lecturedata/stockdata/daily/TRD_Dalyr1_01.csv\"\n",
      "\"d:/GitsProject/FintechStudy/resources/lecturedata/stockdata/daily/TRD_Dalyr1_02.csv\"\n",
      "\"d:/GitsProject/FintechStudy/resources/lecturedata/stockdata/daily/TRD_Dalyr1_03.csv\"\n",
      "\"d:/GitsProject/FintechStudy/resources/lecturedata/stockdata/daily/TRD_Dalyr1_04.csv\"\n",
      "\"d:/GitsProject/FintechStudy/resources/lecturedata/stockdata/daily/TRD_Dalyr2_03.csv\"\n",
      "\"d:/GitsProject/FintechStudy/resources/lecturedata/stockdata/daily/TRD_Dalyr2_04.csv\"\n",
      "\"d:/GitsProject/FintechStudy/resources/lecturedata/stockdata/daily/TRD_Dalyr3_04.csv\"\n",
      "\"d:/GitsProject/FintechStudy/resources/lecturedata/stockdata/daily/TRD_Dalyr_01.csv\"\n",
      "\"d:/GitsProject/FintechStudy/resources/lecturedata/stockdata/daily/TRD_Dalyr_02.csv\"\n",
      "\"d:/GitsProject/FintechStudy/resources/lecturedata/stockdata/daily/TRD_Dalyr_03.csv\"\n",
      "\"d:/GitsProject/FintechStudy/resources/lecturedata/stockdata/daily/TRD_Dalyr_04.csv\"\n"
     ]
    }
   ],
   "source": [
    "res_file = []\n",
    "for file_name in os.listdir(path=FilesIO.getLectureData(\"stockdata/daily\")):\n",
    "    if file_name.endswith(\".csv\"):\n",
    "        print(\n",
    "            '\"%s\"' % (\n",
    "                FilesIO.getLectureData(\"stockdata/daily/\") + file_name\n",
    "            ).replace(\"\\\\\", \"/\")\n",
    "        )\n",
    "        df = pd.read_csv(\n",
    "            FilesIO.getLectureData(\"stockdata/daily/\") + file_name,\n",
    "            parse_dates=[1], index_col=None\n",
    "        )\n",
    "        res_file.append(df)\n",
    "\n",
    "resfile = parse_input(pd.concat(res_file))"
   ]
  },
  {
   "cell_type": "markdown",
   "metadata": {},
   "source": [
    "# Statistic Arbitrage"
   ]
  },
  {
   "cell_type": "code",
   "execution_count": null,
   "metadata": {},
   "outputs": [],
   "source": [
    "sample = resfile.swaplevel( 0,1, axis = 1 )\n",
    "sample = sample[ ['Close','Cir_Mar_Val', 'status'] ].resample( '1M' ).last()\n",
    "#sample = sample.swaplevel( 0,1, axis = 1 )\n",
    "sample.sort_index( axis = 1, inplace = True )"
   ]
  },
  {
   "cell_type": "code",
   "execution_count": null,
   "metadata": {},
   "outputs": [],
   "source": [
    "ret = sample[ 'Close' ].pct_change() #percent change"
   ]
  },
  {
   "cell_type": "markdown",
   "metadata": {},
   "source": [
    "# In class exercise\n",
    "\n",
    "Make position simple average."
   ]
  },
  {
   "cell_type": "markdown",
   "metadata": {},
   "source": [
    "# In class exercise\n",
    "\n",
    "Make holding periods into 6 months."
   ]
  },
  {
   "cell_type": "markdown",
   "metadata": {},
   "source": [
    "# In class exercise\n",
    "\n",
    "Make the strategy pure long."
   ]
  },
  {
   "cell_type": "markdown",
   "metadata": {},
   "source": [
    "# In class exercise\n",
    "\n",
    "Make the strategy pure short."
   ]
  },
  {
   "cell_type": "markdown",
   "metadata": {},
   "source": [
    "# In class exercise\n",
    "\n",
    "Alternative strategy: buy the stocks with largest return in the last month."
   ]
  },
  {
   "cell_type": "markdown",
   "metadata": {},
   "source": [
    "# OLS Regression"
   ]
  },
  {
   "cell_type": "markdown",
   "metadata": {},
   "source": [
    "# T-tests"
   ]
  },
  {
   "cell_type": "code",
   "execution_count": null,
   "metadata": {},
   "outputs": [],
   "source": []
  }
 ],
 "metadata": {
  "kernelspec": {
   "display_name": "Python 3 (ipykernel)",
   "language": "python",
   "name": "python3"
  },
  "language_info": {
   "codemirror_mode": {
    "name": "ipython",
    "version": 3
   },
   "file_extension": ".py",
   "mimetype": "text/x-python",
   "name": "python",
   "nbconvert_exporter": "python",
   "pygments_lexer": "ipython3",
   "version": "3.9.7"
  }
 },
 "nbformat": 4,
 "nbformat_minor": 4
}
