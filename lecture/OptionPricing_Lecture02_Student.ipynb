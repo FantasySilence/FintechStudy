{
 "cells": [
  {
   "cell_type": "markdown",
   "metadata": {},
   "source": [
    "# FINTECH OptionPricing Lecture02"
   ]
  },
  {
   "cell_type": "code",
   "execution_count": 1,
   "metadata": {},
   "outputs": [],
   "source": [
    "from pylab import plt, mpl\n",
    "%matplotlib inline\n",
    "import math\n",
    "import numpy as np"
   ]
  },
  {
   "cell_type": "code",
   "execution_count": 2,
   "metadata": {},
   "outputs": [],
   "source": [
    "plt.style.use( \"seaborn\" )\n",
    "mpl.rcParams[ 'font.family' ] = 'serif'"
   ]
  },
  {
   "cell_type": "markdown",
   "metadata": {},
   "source": [
    "# Variance Reduction"
   ]
  },
  {
   "cell_type": "code",
   "execution_count": 3,
   "metadata": {
    "collapsed": true
   },
   "outputs": [
    {
     "name": "stdout",
     "output_type": "stream",
     "text": [
      "mean            std.           \n",
      "-------------------------------\n",
      " 0.001150944833  1.006296354600\n",
      " 0.002841204001  0.995987967146\n",
      " 0.001998082016  0.997701714233\n",
      " 0.001322322067  0.997771186968\n",
      " 0.000592711311  0.998388962646\n",
      "-0.000339730751  0.998399891450\n",
      "-0.000228109010  0.998657429396\n",
      " 0.000295768719  0.998877333340\n",
      " 0.000257107789  0.999284894532\n",
      "-0.000357870642  0.999456401088\n",
      "-0.000528443742  0.999617831131\n",
      "-0.000300171536  0.999445228838\n",
      "-0.000162924037  0.999516059328\n",
      " 0.000135778889  0.999611052522\n",
      " 0.000182006048  0.999619405229\n"
     ]
    }
   ],
   "source": [
    "print('{:15s} {:15s}'.format('mean', 'std.'))\n",
    "print(31 * '-')\n",
    "for i in range(1, 31, 2):\n",
    "    np.random.seed(100)\n",
    "    sn = np.random.standard_normal(i ** 2 * 10000)\n",
    "    print('{:15.12f} {:15.12f}'.format( sn.mean(), sn.std()))"
   ]
  },
  {
   "cell_type": "markdown",
   "metadata": {},
   "source": [
    "### Antithetic Variates"
   ]
  },
  {
   "cell_type": "code",
   "execution_count": 4,
   "metadata": {
    "collapsed": true
   },
   "outputs": [
    {
     "name": "stdout",
     "output_type": "stream",
     "text": [
      "mean            std.           \n",
      "-------------------------------\n",
      "-0.000000000000  1.017474904235\n",
      " 0.000000000000  0.998944776883\n",
      " 0.000000000000  0.998018870658\n",
      " 0.000000000000  0.997916558845\n",
      "-0.000000000000  0.998119811838\n",
      " 0.000000000000  0.998365584578\n",
      " 0.000000000000  0.998171301115\n",
      "-0.000000000000  0.998359568664\n",
      "-0.000000000000  0.998772594780\n",
      "-0.000000000000  0.998640403762\n",
      " 0.000000000000  0.998868127277\n",
      " 0.000000000000  0.999102053335\n",
      " 0.000000000000  0.999342143561\n",
      " 0.000000000000  0.999449673443\n",
      "-0.000000000000  0.999613960655\n"
     ]
    }
   ],
   "source": [
    "print('{:15s} {:15s}'.format( 'mean', 'std.' ))\n",
    "print(31 * '-')\n",
    "for i in range(1, 31, 2):\n",
    "    np.random.seed(100)\n",
    "    sn = np.random.standard_normal(i ** 2 * 5000)\n",
    "    sn = np.concatenate((sn, -sn))      # 取另一半的相反数\n",
    "    print('{:15.12f} {:15.12f}'.format(sn.mean(), sn.std()))"
   ]
  },
  {
   "cell_type": "markdown",
   "metadata": {},
   "source": [
    "### Moment Matching"
   ]
  },
  {
   "cell_type": "code",
   "execution_count": 5,
   "metadata": {
    "collapsed": true
   },
   "outputs": [
    {
     "name": "stdout",
     "output_type": "stream",
     "text": [
      "mean            std.           \n",
      "-------------------------------\n",
      "-0.000000000000  1.000000000000\n",
      " 0.000000000000  1.000000000000\n",
      "-0.000000000000  1.000000000000\n",
      "-0.000000000000  1.000000000000\n",
      "-0.000000000000  1.000000000000\n",
      "-0.000000000000  1.000000000000\n",
      " 0.000000000000  1.000000000000\n",
      " 0.000000000000  1.000000000000\n",
      "-0.000000000000  1.000000000000\n",
      "-0.000000000000  1.000000000000\n",
      " 0.000000000000  1.000000000000\n",
      " 0.000000000000  1.000000000000\n",
      "-0.000000000000  1.000000000000\n",
      "-0.000000000000  1.000000000000\n",
      " 0.000000000000  1.000000000000\n"
     ]
    }
   ],
   "source": [
    "print('{:15s} {:15s}'.format('mean', 'std.'))\n",
    "print(31 * '-' )\n",
    "for i in range(1, 31, 2):\n",
    "    np.random.seed(100)\n",
    "    sn = np.random.standard_normal(i**2*10000)\n",
    "    sn = (sn - sn.mean()) / sn.std()\n",
    "    print('{:15.12f} {:15.12f}'.format(sn.mean(), sn.std()))"
   ]
  },
  {
   "cell_type": "markdown",
   "metadata": {},
   "source": [
    "## Practice: A function to return variance reduced normal"
   ]
  },
  {
   "cell_type": "code",
   "execution_count": 12,
   "metadata": {},
   "outputs": [],
   "source": [
    "def get_paths(\n",
    "        M: int, I: int, anti_path: bool=True, mo_matching: bool=True\n",
    ") -> np.ndarray:\n",
    "    \n",
    "    \"\"\"\n",
    "    随机数生成器，可以一次性生成全部所需的随机数\n",
    "    \"\"\"\n",
    "    \n",
    "    if anti_path:\n",
    "        sn = np.random.standard_normal((M, int(I / 2)))\n",
    "        sn = np.concatenate((sn, -sn)) \n",
    "        if I % 2 == 0:\n",
    "            pass\n",
    "        else:\n",
    "            sn = np.concatenate((sn, np.random.standard_normal((M, 1))), axis=1)\n",
    "    else:\n",
    "        sn = np.random.standard_normal((M, I))\n",
    "    \n",
    "    if mo_matching:\n",
    "        sn = (sn - sn.mean()) / sn.std()\n",
    "    \n",
    "    return sn"
   ]
  },
  {
   "cell_type": "markdown",
   "metadata": {},
   "source": [
    "# European Option"
   ]
  },
  {
   "cell_type": "code",
   "execution_count": 7,
   "metadata": {},
   "outputs": [],
   "source": [
    "S0 = 100\n",
    "r = 0.05\n",
    "sigma = 0.25\n",
    "T = 2.0\n",
    "I = 10000\n",
    "M = 100\n",
    "K = 105"
   ]
  },
  {
   "cell_type": "code",
   "execution_count": null,
   "metadata": {},
   "outputs": [],
   "source": [
    "def European_Option_Pricer_OneStep(S0, K, T, r, sigma, I, optionType = \"Call\"):\n",
    "    sn = get_paths(1, I)\n",
    "    \n",
    "    ST = S0 * np.exp((r - 0.5 * sigma ** 2) * T + sigma * np.sqrt( T ) * sn[ 0 ])\n",
    "    if optionType == \"Call\":\n",
    "        hT = np.maximum(ST - K, 0)\n",
    "    else:\n",
    "        hT = np.maximum(K - ST, 0)\n",
    "        \n",
    "    C0 = np.exp(-r * T) * hT.mean()\n",
    "    return C0"
   ]
  },
  {
   "cell_type": "markdown",
   "metadata": {},
   "source": [
    "# In class practice: multi-step simulation"
   ]
  },
  {
   "cell_type": "markdown",
   "metadata": {},
   "source": [
    "# In class exercise: Implement Black-Scholes Model \n",
    "\n",
    "$C = N(d_1)S_0 - N(d_2)Ke^{-rT}$\n",
    "\n",
    "$P = N(-d_2)Ke^{-rT} - N(-d_1)S_0$\n",
    "\n",
    "$d_1 = \\frac{ \\ln{\\frac{S_0}{K}} + (r + \\frac{\\sigma^2}{2})T}{ \\sigma \\sqrt{T}}$\n",
    "\n",
    "$d_2 = d_1 - \\sigma \\sqrt{T}$\n",
    "\n",
    "$C - P = S-Ke^{-rT}$\n",
    "\n",
    "Hint: use scipy.stats.norm to calculate cdf of normal distribution."
   ]
  },
  {
   "cell_type": "code",
   "execution_count": null,
   "metadata": {},
   "outputs": [],
   "source": []
  },
  {
   "cell_type": "markdown",
   "metadata": {},
   "source": [
    "# Binomial Option Pricing Model\n",
    "\n",
    "$u=e^{\\sigma\\sqrt{dt}}$\n",
    "\n",
    "$d=\\frac{1}{u}$\n",
    "\n",
    "$p=\\frac{e^{rdt} - d}{u-d}$"
   ]
  },
  {
   "cell_type": "code",
   "execution_count": null,
   "metadata": {},
   "outputs": [],
   "source": [
    "def binomial_tree_pricer(S0, K, T, r, sigma, M):\n",
    "    \"\"\"\n",
    "    Implements the binomial option pricing model to price a European call option on a stock\n",
    "    S - stock price today\n",
    "    K - strike price of the option\n",
    "    T - time until expiry of the option\n",
    "    r - risk-free interest rate\n",
    "    vol - the volatility of the stock\n",
    "    M - number of steps in the model\n",
    "    \"\"\"\n",
    "    dt = T/M\n",
    "    u =  np.exp(sigma * np.sqrt(dt))\n",
    "    d = 1/u\n",
    "    p = (np.exp(r * dt) - d)/(u - d)\n",
    "    C = {}\n",
    "    for m in range(0, M+1):\n",
    "        C[(M, m)] = max(S0 * (u ** (2*m - M)) - K, 0)\n",
    "    for k in range(M-1, -1, -1):\n",
    "        for m in range(0,k+1):\n",
    "            C[(k, m)] = np.exp(-r * dt) * (p * C[(k+1, m+1)] + (1-p) * C[(k+1, m)])\n",
    "    #print(C)\n",
    "    return C[(0,0)]"
   ]
  },
  {
   "cell_type": "markdown",
   "metadata": {},
   "source": [
    "# Call Price Statistics"
   ]
  },
  {
   "cell_type": "code",
   "execution_count": null,
   "metadata": {},
   "outputs": [],
   "source": [
    "S0 = 100\n",
    "r = 0.05\n",
    "sigma = 0.25\n",
    "T = 2.0\n",
    "I = 50000\n",
    "\n",
    "M = 50\n",
    "\n",
    "stats_blackscholes = []\n",
    "stats_montecarlo_onestep = []\n",
    "stats_montecarlo_dynamic = []\n",
    "stats_binomialtree = []\n",
    "k_values = np.arange( 80, 120, 5 )\n",
    "np.random.seed( 80 )\n",
    "for K in k_values:\n",
    "    stats_blackscholes.append( Black_Scholes_Option_Pricer( S0, K, T, r, sigma ) )\n",
    "    stats_montecarlo_onestep.append( European_Option_Pricer_OneStep( S0, K, T, r, sigma, I ) )\n",
    "    stats_montecarlo_dynamic.append( European_Option_Pricer( S0, K, T, r, sigma, M, I ) )\n",
    "    stats_binomialtree.append( binomial_tree_pricer2( S0, K, T, r, sigma, M ) )"
   ]
  },
  {
   "cell_type": "markdown",
   "metadata": {},
   "source": [
    "# Take Home:\n",
    "\n",
    "Trinomial Model:\n",
    "\n",
    "$u = e^{\\sigma\\sqrt{2\\Delta t}}$\n",
    "\n",
    "$d = e^{-\\sigma\\sqrt{2\\Delta t}} = \\frac{1}{u}$\n",
    "\n",
    "$m = 1$\n",
    "\n",
    "$p_u = ( \\frac{ e^{r\\Delta t /2} - e^{ -\\sigma\\sqrt{\\Delta t/2} } }{ e^{ \\sigma\\sqrt{\\Delta t/2} } - e^{ -\\sigma\\sqrt{\\Delta t/2} } })^2$\n",
    "\n",
    "$p_d = ( \\frac{ e^{ \\sigma\\sqrt{\\Delta t/2} } - e^{-r\\Delta t /2} }{ e^{ \\sigma\\sqrt{\\Delta t/2} } - e^{ -\\sigma\\sqrt{\\Delta t/2} } })^2$\n",
    "\n",
    "$p_m = 1 - (p_u + p_d)$"
   ]
  },
  {
   "cell_type": "code",
   "execution_count": null,
   "metadata": {},
   "outputs": [],
   "source": []
  }
 ],
 "metadata": {
  "kernelspec": {
   "display_name": "Python 3 (ipykernel)",
   "language": "python",
   "name": "python3"
  },
  "language_info": {
   "codemirror_mode": {
    "name": "ipython",
    "version": 3
   },
   "file_extension": ".py",
   "mimetype": "text/x-python",
   "name": "python",
   "nbconvert_exporter": "python",
   "pygments_lexer": "ipython3",
   "version": "3.9.7"
  }
 },
 "nbformat": 4,
 "nbformat_minor": 4
}
